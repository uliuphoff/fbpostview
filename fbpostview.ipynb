{
 "cells": [
  {
   "cell_type": "code",
   "execution_count": null,
   "metadata": {},
   "outputs": [],
   "source": [
    "# https://github.com/uliuphoff/fbpostview.git\n",
    "\n",
    "import json\n",
    "import textwrap as tr\n",
    "from datetime import datetime\n",
    "\n",
    "import matplotlib.pyplot as plt\n",
    "import matplotlib.image as mpimg\n",
    "\n",
    "\n",
    "def imageplot(images, columns=2):\n",
    "    \n",
    "    l = len(images)\n",
    "    \n",
    "    if l == 1:\n",
    "        rows = 1\n",
    "        columns = 1\n",
    "        plt.imshow(images[0])\n",
    "        plt.axis('off')\n",
    "        plt.show()\n",
    "    else:\n",
    "        rows = int(l/columns)+1\n",
    "    \n",
    "        fig = plt.figure(figsize=(12,4*rows))\n",
    "        for i in range(1, l):\n",
    "            img = images[i-1]\n",
    "            fig.add_subplot(rows, columns, i)\n",
    "            plt.imshow(img)\n",
    "            plt.axis('off')\n",
    "        plt.show()\n",
    "    return\n",
    "\n",
    "\n",
    "\n",
    "with open('your_posts.json', 'r') as f:\n",
    "    fb_string = json.load(f)\n",
    "    \n",
    "#dump = json.dumps(fb_string[0:8], indent=2)    \n",
    "    \n",
    "print(f\"We have {len(fb_string)} postings.\")"
   ]
  },
  {
   "cell_type": "code",
   "execution_count": null,
   "metadata": {
    "scrolled": false
   },
   "outputs": [],
   "source": [
    "for post in fb_string[0:6]:\n",
    "    timestamp = post['timestamp']\n",
    "    if \"title\" in post:\n",
    "        title = post['title']\n",
    "        title = title.replace('hat etwas in', '->').replace(' geschrieben.', '').replace(' gepostet.', '')\n",
    "    else:\n",
    "        title = \" - \"\n",
    "    print(str(datetime.fromtimestamp(timestamp).strftime(\"%d-%m-%Y\")))\n",
    "    print(title.encode('latin-1').decode('utf-8')) \n",
    "    if \"data\" in post:\n",
    "        data = post['data']\n",
    "        \n",
    "        if len(data)>0:\n",
    "            if 'post' in data[0]:\n",
    "                text = data[0]['post'].encode('latin-1').decode('utf-8') \n",
    "                lines = tr.wrap(text, width=60)\n",
    "                for i in lines:\n",
    "                    print(i)\n",
    "                \n",
    "    if \"attachments\" in post:\n",
    "        attachments = post['attachments']\n",
    "        for attm in attachments:\n",
    "            if 'data' in attm:\n",
    "                data_a = attm['data']\n",
    "                images=[]\n",
    "                for dat in data_a:\n",
    "                    if \"media\" in dat:\n",
    "                        image = dat['media']['uri']\n",
    "                        if image.endswith('jpg'):\n",
    "                            images.append(mpimg.imread(image))\n",
    "                            #imgplot = plt.imshow(img)\n",
    "                            #plt.show()\n",
    "                    \n",
    "                imageplot(images)\n",
    "                        \n",
    "    print(\"---\\n\\n\")\n",
    "            "
   ]
  },
  {
   "cell_type": "code",
   "execution_count": null,
   "metadata": {},
   "outputs": [],
   "source": []
  }
 ],
 "metadata": {
  "kernelspec": {
   "display_name": "Python 3 (ipykernel)",
   "language": "python",
   "name": "python3"
  },
  "language_info": {
   "codemirror_mode": {
    "name": "ipython",
    "version": 3
   },
   "file_extension": ".py",
   "mimetype": "text/x-python",
   "name": "python",
   "nbconvert_exporter": "python",
   "pygments_lexer": "ipython3",
   "version": "3.9.1"
  }
 },
 "nbformat": 4,
 "nbformat_minor": 4
}
